{
 "cells": [
  {
   "cell_type": "markdown",
   "metadata": {},
   "source": [
    "На обучающей выборке, состоящей из отзывов на приложения в интернет-магазине и их оценки (1 - для положительных отзывов, 0 - для отрицательных), требуется научиться прогнозировать тональность отзывов на аналогичные продукты.\n",
    "\n",
    "С данными можно ознакомиться на сайте: https://www.kaggle.com/c/product-reviews-sentiment-analysis-light"
   ]
  },
  {
   "cell_type": "code",
   "execution_count": 1,
   "metadata": {
    "collapsed": true
   },
   "outputs": [],
   "source": [
    "import numpy as np\n",
    "import pandas as pd\n",
    "from sklearn.feature_extraction.text import CountVectorizer, TfidfVectorizer\n",
    "from sklearn.pipeline import Pipeline\n",
    "from sklearn.linear_model import LogisticRegression, SGDClassifier\n",
    "from sklearn.svm import LinearSVC\n",
    "from sklearn.model_selection import cross_val_score"
   ]
  },
  {
   "cell_type": "code",
   "execution_count": 2,
   "metadata": {},
   "outputs": [
    {
     "data": {
      "text/html": [
       "<div>\n",
       "<table border=\"1\" class=\"dataframe\">\n",
       "  <thead>\n",
       "    <tr style=\"text-align: right;\">\n",
       "      <th></th>\n",
       "      <th>text</th>\n",
       "      <th>label</th>\n",
       "    </tr>\n",
       "  </thead>\n",
       "  <tbody>\n",
       "    <tr>\n",
       "      <th>0</th>\n",
       "      <td>2 . take around 10,000 640x480 pictures .</td>\n",
       "      <td>1</td>\n",
       "    </tr>\n",
       "    <tr>\n",
       "      <th>1</th>\n",
       "      <td>i downloaded a trial version of computer assoc...</td>\n",
       "      <td>1</td>\n",
       "    </tr>\n",
       "    <tr>\n",
       "      <th>2</th>\n",
       "      <td>the wrt54g plus the hga7t is a perfect solutio...</td>\n",
       "      <td>1</td>\n",
       "    </tr>\n",
       "    <tr>\n",
       "      <th>3</th>\n",
       "      <td>i dont especially like how music files are uns...</td>\n",
       "      <td>0</td>\n",
       "    </tr>\n",
       "    <tr>\n",
       "      <th>4</th>\n",
       "      <td>i was using the cheapie pail ... and it worked...</td>\n",
       "      <td>1</td>\n",
       "    </tr>\n",
       "  </tbody>\n",
       "</table>\n",
       "</div>"
      ],
      "text/plain": [
       "                                                text  label\n",
       "0          2 . take around 10,000 640x480 pictures .      1\n",
       "1  i downloaded a trial version of computer assoc...      1\n",
       "2  the wrt54g plus the hga7t is a perfect solutio...      1\n",
       "3  i dont especially like how music files are uns...      0\n",
       "4  i was using the cheapie pail ... and it worked...      1"
      ]
     },
     "execution_count": 2,
     "metadata": {},
     "output_type": "execute_result"
    }
   ],
   "source": [
    "data_train = pd.read_csv('products_sentiment_train.tsv', sep = '\\t', names = ['text', 'label']) \n",
    "data_test = pd.read_csv('products_sentiment_test.tsv', sep = '\\t', usecols = [1]) \n",
    "data_train.head()"
   ]
  },
  {
   "cell_type": "code",
   "execution_count": 5,
   "metadata": {},
   "outputs": [
    {
     "name": "stdout",
     "output_type": "stream",
     "text": [
      "train data shape is (2000, 2)\n",
      "test data shape is (500, 1)\n",
      "1    1274\n",
      "0     726\n",
      "Name: label, dtype: int64\n",
      "Positive reviews rate is 0.637\n"
     ]
    }
   ],
   "source": [
    "print 'train data shape is', data_train.shape\n",
    "print 'test data shape is', data_test.shape\n",
    "print data_train.label.value_counts()\n",
    "print 'Positive reviews rate is', 1274./2000"
   ]
  },
  {
   "cell_type": "code",
   "execution_count": 6,
   "metadata": {
    "collapsed": true
   },
   "outputs": [],
   "source": [
    "#используем лемматизатор NLTK\n",
    "from nltk import word_tokenize          \n",
    "from nltk.stem import WordNetLemmatizer \n",
    "class LemmaTokenizer(object):\n",
    "     def __init__(self):\n",
    "            self.wnl = WordNetLemmatizer()\n",
    "     def __call__(self, doc):\n",
    "         return [self.wnl.lemmatize(t) for t in word_tokenize(doc)]"
   ]
  },
  {
   "cell_type": "code",
   "execution_count": 7,
   "metadata": {
    "collapsed": true
   },
   "outputs": [],
   "source": [
    "#составляем pipeline\n",
    "cvz = CountVectorizer(tokenizer=LemmaTokenizer(), ngram_range = (1,3), analyzer='word')\n",
    "lr = LogisticRegression()\n",
    "\n",
    "X_train = data_train.text\n",
    "y_train = data_train.label\n",
    "\n",
    "pipeline = Pipeline([('Vectorizer', cvz), \n",
    "                     ('Classifier', lr)\n",
    "                    ])"
   ]
  },
  {
   "cell_type": "code",
   "execution_count": 23,
   "metadata": {},
   "outputs": [
    {
     "name": "stdout",
     "output_type": "stream",
     "text": [
      "0.791 {'Classifier__class_weight': 'balanced', 'Vectorizer__ngram_range': (1, 2), 'Vectorizer__analyzer': 'word'}\n"
     ]
    }
   ],
   "source": [
    "#проверяем качество модели на кросс валидации, подбираем оптимальные параметры на сетке\n",
    "from sklearn.grid_search import GridSearchCV\n",
    "\n",
    "parameters = dict(Vectorizer__ngram_range =[(1,1), (1,2), (1,3)],\n",
    "                  Vectorizer__analyzer =['word', 'char', 'char_wb'],\n",
    "                  Classifier__class_weight = [None, 'balanced']\n",
    "                 )\n",
    "\n",
    "gs = GridSearchCV(pipeline, param_grid=parameters, cv = 5)\n",
    "gs.fit(X_train, y_train)\n",
    "\n",
    "print gs.best_score_, gs.best_params_"
   ]
  },
  {
   "cell_type": "code",
   "execution_count": 29,
   "metadata": {
    "collapsed": true
   },
   "outputs": [],
   "source": [
    "#записываем полученную модель в pickle\n",
    "import pickle\n",
    "\n",
    "cvz = CountVectorizer(tokenizer=LemmaTokenizer(), ngram_range = (1,2), analyzer='word')\n",
    "X_vect_train = cvz.fit_transform(X_train)\n",
    "lr = LogisticRegression(class_weight = 'balanced')\n",
    "lr.fit(X_vect_train, y_train)\n",
    "\n",
    "with open('LemmaTokenizer.pkl', 'wb') as f:\n",
    "    pickle.dump(LemmaTokenizer(),f)\n",
    "with open('Vectorizer.pkl', 'wb') as f:\n",
    "    pickle.dump(cvz,f)\n",
    "with open('LogitR.pkl', 'wb') as f:\n",
    "    pickle.dump(lr, f)   "
   ]
  }
 ],
 "metadata": {
  "kernelspec": {
   "display_name": "Python [default]",
   "language": "python",
   "name": "python2"
  },
  "language_info": {
   "codemirror_mode": {
    "name": "ipython",
    "version": 2
   },
   "file_extension": ".py",
   "mimetype": "text/x-python",
   "name": "python",
   "nbconvert_exporter": "python",
   "pygments_lexer": "ipython2",
   "version": "2.7.13"
  }
 },
 "nbformat": 4,
 "nbformat_minor": 2
}
